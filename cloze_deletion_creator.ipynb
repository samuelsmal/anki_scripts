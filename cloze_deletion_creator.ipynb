{
 "cells": [
  {
   "cell_type": "code",
   "execution_count": 186,
   "metadata": {},
   "outputs": [],
   "source": [
    "import csv\n",
    "from collections import namedtuple\n",
    "import re\n",
    "import sys"
   ]
  },
  {
   "cell_type": "code",
   "execution_count": 95,
   "metadata": {},
   "outputs": [],
   "source": [
    "def flatten(l):\n",
    "     return [item for sublist in l for item in sublist]"
   ]
  },
  {
   "cell_type": "code",
   "execution_count": 176,
   "metadata": {},
   "outputs": [],
   "source": [
    "ClozeCard = namedtuple('ClozeCard', 'id, tags, content')\n",
    "\n",
    "def read_file(f):\n",
    "    #with open(f, 'r') as fh:\n",
    "    #    return fh.readlines()\n",
    "    with open(f, newline='') as csvfile:\n",
    "        return [ClozeCard(*r) for r in csv.reader(csvfile, delimiter='\\t', quotechar='\"')]"
   ]
  },
  {
   "cell_type": "code",
   "execution_count": 179,
   "metadata": {},
   "outputs": [],
   "source": [
    "def trim_inside(ls):\n",
    "    return [l.strip() for l in ls]\n",
    "    \n",
    "def generate_cards(card):\n",
    "    # TODO add `-` recognition\n",
    "    if '1.' in card.content  and '{' not in card.content:\n",
    "        lines = [l.rstrip(\"<br>\") for l in card.content.splitlines()]\n",
    "        lines_with_items = [trim_inside(l.split('.', 1)) for l in lines if len(l) > 0 and l[0].isdigit() or l.startswith('-')]\n",
    "        headers = [l for l in lines if len(l) == 0 or (not l[0].isdigit() and not l.startswith('-'))]\n",
    "        start_card_content = '<br>'.join(headers + [(n + \". {{c1::\" + c + \"}}\" if idx == 0 else f\"{n}. ...\") for idx, (n, c) in enumerate(lines_with_items)])\n",
    "        new_cards = [ClozeCard(**{**card._asdict(), \n",
    "                               \"id\": f\"{card.id}_b\",\n",
    "                               \"content\": start_card_content})]\n",
    "        \n",
    "        for line_idx in range(1, len(lines_with_items)):\n",
    "            new_lines = [[n, \"...\"] for (n, c) in lines_with_items]\n",
    "            new_lines[line_idx - 1][1] = lines_with_items[line_idx - 1][1]\n",
    "            new_lines[line_idx][1] = \"{{c1::\" + lines_with_items[line_idx][1] + \"}}\"\n",
    "            new_cards += [ClozeCard(**{**card._asdict(), \n",
    "                               \"id\": f\"{card.id}_{line_idx}\",\n",
    "                               \"content\": '<br>'.join(headers + [f\"{n}. {c}\" for n, c in new_lines])})]\n",
    "            \n",
    "        return new_cards\n",
    "    else:\n",
    "        return [card]"
   ]
  },
  {
   "cell_type": "code",
   "execution_count": 187,
   "metadata": {},
   "outputs": [],
   "source": [
    "def write_cards(cards, file_name):\n",
    "    with open(file_name, 'w', newline='') as csvfile:\n",
    "        fieldnames = ['id', 'tags', 'content']\n",
    "        writer = csv.DictWriter(csvfile, fieldnames=fieldnames, delimiter=\"\\t\", quoting=csv.QUOTE_ALL)\n",
    "\n",
    "        for c in cards:\n",
    "            writer.writerow(c._asdict())"
   ]
  },
  {
   "cell_type": "code",
   "execution_count": 188,
   "metadata": {},
   "outputs": [
    {
     "name": "stdout",
     "output_type": "stream",
     "text": [
      "you have to give me a csv file\n"
     ]
    },
    {
     "ename": "SystemExit",
     "evalue": "1",
     "output_type": "error",
     "traceback": [
      "An exception has occurred, use %tb to see the full traceback.\n",
      "\u001b[0;31mSystemExit\u001b[0m\u001b[0;31m:\u001b[0m 1\n"
     ]
    },
    {
     "name": "stderr",
     "output_type": "stream",
     "text": [
      "/home/sam/.local/opt/miniconda3/envs/ada/lib/python3.7/site-packages/IPython/core/interactiveshell.py:3334: UserWarning: To exit: use 'exit', 'quit', or Ctrl-D.\n",
      "  warn(\"To exit: use 'exit', 'quit', or Ctrl-D.\", stacklevel=1)\n"
     ]
    }
   ],
   "source": [
    "if __name__ == '__main__':\n",
    "    #anki_card_path = '/home/sam/Dropbox/03_EPFL/01_courses/25_cellular-biology-for-engineers/anki_cards/cards.csv'\n",
    "    if len(sys.argv) != 2:\n",
    "        print(\"you have to give me a csv file\")\n",
    "        sys.exit(1)\n",
    "        \n",
    "    file_path = sys.argv[1]\n",
    "    \n",
    "    write_cards(flatten([generate_cards(l) for l in read_file(file_path)]), file_path[:-4] + \"_mod.csv\")"
   ]
  },
  {
   "cell_type": "code",
   "execution_count": null,
   "metadata": {},
   "outputs": [],
   "source": []
  }
 ],
 "metadata": {
  "kernelspec": {
   "display_name": "Python [conda env:ada] *",
   "language": "python",
   "name": "conda-env-ada-py"
  },
  "language_info": {
   "codemirror_mode": {
    "name": "ipython",
    "version": 3
   },
   "file_extension": ".py",
   "mimetype": "text/x-python",
   "name": "python",
   "nbconvert_exporter": "python",
   "pygments_lexer": "ipython3",
   "version": "3.7.5"
  }
 },
 "nbformat": 4,
 "nbformat_minor": 4
}
